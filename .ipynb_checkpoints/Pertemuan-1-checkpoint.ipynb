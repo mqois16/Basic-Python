{
 "cells": [
  {
   "cell_type": "markdown",
   "id": "proud-round",
   "metadata": {},
   "source": [
    "### First Program"
   ]
  },
  {
   "cell_type": "code",
   "execution_count": 2,
   "id": "wrong-genesis",
   "metadata": {},
   "outputs": [
    {
     "name": "stdout",
     "output_type": "stream",
     "text": [
      "Hello World\n"
     ]
    }
   ],
   "source": [
    "print(\"Hello World\")\n"
   ]
  },
  {
   "cell_type": "code",
   "execution_count": 3,
   "id": "liked-mileage",
   "metadata": {},
   "outputs": [
    {
     "name": "stdout",
     "output_type": "stream",
     "text": [
      "Selamat Siang\n"
     ]
    }
   ],
   "source": [
    "salam = \"Selamat Siang\"\n",
    "print(salam)"
   ]
  },
  {
   "cell_type": "code",
   "execution_count": 6,
   "id": "numeric-imperial",
   "metadata": {},
   "outputs": [
    {
     "name": "stdout",
     "output_type": "stream",
     "text": [
      "(1+2j)\n"
     ]
    }
   ],
   "source": [
    "comp = 1 + 2j\n",
    "print(comp)"
   ]
  },
  {
   "cell_type": "code",
   "execution_count": 1,
   "id": "toxic-insight",
   "metadata": {},
   "outputs": [
    {
     "name": "stdout",
     "output_type": "stream",
     "text": [
      "4\n"
     ]
    }
   ],
   "source": [
    "a=1\n",
    "b=3\n",
    "ca=2\n",
    "\n",
    "print(ca-a+b)"
   ]
  },
  {
   "cell_type": "code",
   "execution_count": null,
   "id": "coordinated-oxford",
   "metadata": {},
   "outputs": [],
   "source": []
  },
  {
   "cell_type": "code",
   "execution_count": null,
   "id": "genuine-railway",
   "metadata": {},
   "outputs": [],
   "source": []
  }
 ],
 "metadata": {
  "kernelspec": {
   "display_name": "Python 3",
   "language": "python",
   "name": "python3"
  },
  "language_info": {
   "codemirror_mode": {
    "name": "ipython",
    "version": 3
   },
   "file_extension": ".py",
   "mimetype": "text/x-python",
   "name": "python",
   "nbconvert_exporter": "python",
   "pygments_lexer": "ipython3",
   "version": "3.9.1"
  }
 },
 "nbformat": 4,
 "nbformat_minor": 5
}
