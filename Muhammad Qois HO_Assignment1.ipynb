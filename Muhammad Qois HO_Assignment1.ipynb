{
 "cells": [
  {
   "cell_type": "markdown",
   "id": "orange-stadium",
   "metadata": {},
   "source": [
    "# 1"
   ]
  },
  {
   "cell_type": "code",
   "execution_count": 2,
   "id": "heated-conversation",
   "metadata": {},
   "outputs": [
    {
     "name": "stdin",
     "output_type": "stream",
     "text": [
      "Masukkan nama:  joko\n",
      "Masukkan umur:  33\n",
      "Masukkan tinggi badan:  140.5\n"
     ]
    },
    {
     "name": "stdout",
     "output_type": "stream",
     "text": [
      "Nama saya joko,umur saya 33 tahun dan tinggi saya 140.5 cm\n"
     ]
    }
   ],
   "source": [
    "nama = input(\"Masukkan nama: \")\n",
    "umur = int(input(\"Masukkan umur: \"))\n",
    "tinggi = float(input(\"Masukkan tinggi badan: \"))\n",
    "print(\"Nama saya {},umur saya {} tahun dan tinggi saya {} cm\".format(nama,umur,tinggi))"
   ]
  },
  {
   "cell_type": "markdown",
   "id": "level-vault",
   "metadata": {},
   "source": [
    "# 2"
   ]
  },
  {
   "cell_type": "code",
   "execution_count": 4,
   "id": "meaningful-feeding",
   "metadata": {},
   "outputs": [
    {
     "name": "stdin",
     "output_type": "stream",
     "text": [
      "Masukkan jari-jari lingkaran:  14\n"
     ]
    },
    {
     "name": "stdout",
     "output_type": "stream",
     "text": [
      "Luas lingkaran dengan jari-jari 14.0 cm adalah 616.0 cm²\n"
     ]
    }
   ],
   "source": [
    "pi = 22/7\n",
    "r = float(input(\"Masukkan jari-jari lingkaran: \"))\n",
    "luas = pi*(r**2)\n",
    "print(\"Luas lingkaran dengan jari-jari {} cm adalah {} cm\\u00b2\".format(r,luas))"
   ]
  },
  {
   "cell_type": "markdown",
   "id": "interested-baker",
   "metadata": {},
   "source": [
    "# 3"
   ]
  },
  {
   "cell_type": "code",
   "execution_count": 10,
   "id": "second-smile",
   "metadata": {},
   "outputs": [
    {
     "name": "stdin",
     "output_type": "stream",
     "text": [
      "Masukkan nilai teori:  10\n",
      "Masukkan nilai praktek:  80\n"
     ]
    },
    {
     "name": "stdout",
     "output_type": "stream",
     "text": [
      "Anda harus mengulangi ujian teori\n"
     ]
    }
   ],
   "source": [
    "nteori = int(input(\"Masukkan nilai teori: \"))\n",
    "nprak = int(input(\"Masukkan nilai praktek: \"))\n",
    "if nprak>= 70 and nteori >= 70:\n",
    "    print(\"Selamat,anda lulus!\")\n",
    "elif nteori>=70 and nprak<70:\n",
    "    print(\"Anda harus mengulangi ujian praktek\")\n",
    "elif nteori<70 and nprak>=70:\n",
    "    print(\"Anda harus mengulangi ujian teori\")\n",
    "else:\n",
    "    print(\"Anda harus mengulang ujian teori dan praktek\")"
   ]
  },
  {
   "cell_type": "code",
   "execution_count": null,
   "id": "freelance-tucson",
   "metadata": {},
   "outputs": [],
   "source": []
  }
 ],
 "metadata": {
  "kernelspec": {
   "display_name": "Python 3",
   "language": "python",
   "name": "python3"
  },
  "language_info": {
   "codemirror_mode": {
    "name": "ipython",
    "version": 3
   },
   "file_extension": ".py",
   "mimetype": "text/x-python",
   "name": "python",
   "nbconvert_exporter": "python",
   "pygments_lexer": "ipython3",
   "version": "3.9.1"
  }
 },
 "nbformat": 4,
 "nbformat_minor": 5
}
