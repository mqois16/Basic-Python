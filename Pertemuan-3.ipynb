{
 "cells": [
  {
   "cell_type": "markdown",
   "id": "geographic-archives",
   "metadata": {},
   "source": [
    "# Range "
   ]
  },
  {
   "cell_type": "code",
   "execution_count": 1,
   "id": "overall-stylus",
   "metadata": {},
   "outputs": [
    {
     "name": "stdout",
     "output_type": "stream",
     "text": [
      "0\n",
      "1\n",
      "2\n"
     ]
    }
   ],
   "source": [
    "for i in range(3):\n",
    "    print(i)"
   ]
  },
  {
   "cell_type": "code",
   "execution_count": 2,
   "id": "collaborative-pride",
   "metadata": {},
   "outputs": [
    {
     "name": "stdout",
     "output_type": "stream",
     "text": [
      "1\n",
      "2\n"
     ]
    }
   ],
   "source": [
    "for x in range(1,3): #increment=3\n",
    "    print(x)"
   ]
  },
  {
   "cell_type": "code",
   "execution_count": 3,
   "id": "referenced-trinidad",
   "metadata": {},
   "outputs": [
    {
     "name": "stdout",
     "output_type": "stream",
     "text": [
      "2\n",
      "4\n",
      "6\n",
      "8\n",
      "10\n",
      "12\n",
      "14\n",
      "16\n",
      "18\n"
     ]
    }
   ],
   "source": [
    "for y in range(2,20,2): #step=2\n",
    "    print(y)"
   ]
  },
  {
   "cell_type": "code",
   "execution_count": 4,
   "id": "chemical-enemy",
   "metadata": {},
   "outputs": [
    {
     "name": "stdout",
     "output_type": "stream",
     "text": [
      "1\n",
      "2\n",
      "3\n",
      "4\n",
      "5\n",
      "6\n",
      "7\n",
      "8\n",
      "9\n",
      "10\n"
     ]
    }
   ],
   "source": [
    "for z in range(1,11):\n",
    "    print(z)"
   ]
  },
  {
   "cell_type": "markdown",
   "id": "occupied-purse",
   "metadata": {},
   "source": [
    "# Break"
   ]
  },
  {
   "cell_type": "code",
   "execution_count": 5,
   "id": "advanced-clock",
   "metadata": {},
   "outputs": [
    {
     "name": "stdout",
     "output_type": "stream",
     "text": [
      "0\n",
      "1\n",
      "2\n"
     ]
    }
   ],
   "source": [
    "for i in range(5):\n",
    "    if i == 3:\n",
    "        break\n",
    "    print(i)"
   ]
  },
  {
   "cell_type": "markdown",
   "id": "future-colonial",
   "metadata": {},
   "source": [
    "# Continue"
   ]
  },
  {
   "cell_type": "code",
   "execution_count": 7,
   "id": "demanding-cedar",
   "metadata": {},
   "outputs": [
    {
     "name": "stdout",
     "output_type": "stream",
     "text": [
      "0\n",
      "1\n",
      "3\n",
      "4\n"
     ]
    }
   ],
   "source": [
    "for i in range(5):\n",
    "    if i == 2 :\n",
    "        continue\n",
    "    print(i)"
   ]
  },
  {
   "cell_type": "markdown",
   "id": "large-director",
   "metadata": {},
   "source": [
    "# List\n"
   ]
  },
  {
   "cell_type": "code",
   "execution_count": 8,
   "id": "dangerous-finance",
   "metadata": {},
   "outputs": [
    {
     "name": "stdout",
     "output_type": "stream",
     "text": [
      "['a', 'b', 'c', 'd', 'e']\n",
      "['a', 'b', 'c', 'd']\n"
     ]
    }
   ],
   "source": [
    "myList=['a','b','c','d','e']\n",
    "print(myList)\n",
    "myList.remove('e')\n",
    "print(myList)"
   ]
  },
  {
   "cell_type": "markdown",
   "id": "steady-color",
   "metadata": {},
   "source": [
    "# Nested loop"
   ]
  },
  {
   "cell_type": "code",
   "execution_count": 10,
   "id": "substantial-milan",
   "metadata": {},
   "outputs": [
    {
     "name": "stdout",
     "output_type": "stream",
     "text": [
      "i:0,j:0\n",
      "i:0,j:1\n",
      "i:0,j:2\n",
      "\n",
      "i:1,j:0\n",
      "i:1,j:1\n",
      "i:1,j:2\n",
      "\n"
     ]
    }
   ],
   "source": [
    "for i in range(2):\n",
    "    for j in range(3):\n",
    "        print('i:{},j:{}'.format(i,j))\n",
    "    print()"
   ]
  },
  {
   "cell_type": "code",
   "execution_count": 12,
   "id": "civic-pleasure",
   "metadata": {},
   "outputs": [
    {
     "name": "stdout",
     "output_type": "stream",
     "text": [
      "i:0,j:0->i:0,j:1->i:0,j:2->\n",
      "i:1,j:0->i:1,j:1->i:1,j:2->\n"
     ]
    }
   ],
   "source": [
    "for i in range(2):\n",
    "    for j in range(3):\n",
    "        print('i:{},j:{}'.format(i,j),end = '->')\n",
    "    print()"
   ]
  },
  {
   "cell_type": "code",
   "execution_count": 13,
   "id": "built-paraguay",
   "metadata": {},
   "outputs": [
    {
     "name": "stdout",
     "output_type": "stream",
     "text": [
      "i:0,j:0 i:0,j:1 i:0,j:2 \n",
      "i:1,j:0 i:1,j:1 i:1,j:2 \n",
      "i:2,j:0 i:2,j:1 i:2,j:2 \n",
      "i:3,j:0 i:3,j:1 i:3,j:2 \n",
      "i:4,j:0 i:4,j:1 i:4,j:2 \n"
     ]
    }
   ],
   "source": [
    "for i in range(5):\n",
    "    for j in range(3):\n",
    "        print('i:{},j:{}'.format(i,j),end = ' ')\n",
    "    print()"
   ]
  },
  {
   "cell_type": "code",
   "execution_count": 14,
   "id": "multiple-invention",
   "metadata": {},
   "outputs": [
    {
     "name": "stdout",
     "output_type": "stream",
     "text": [
      "0.0\n",
      "0.1\n",
      "0.2\n",
      "\n",
      "1.0\n",
      "1.1\n",
      "1.2\n",
      "\n",
      "2.0\n",
      "2.1\n",
      "2.2\n",
      "\n",
      "3.0\n",
      "3.1\n",
      "3.2\n",
      "\n",
      "4.0\n",
      "4.1\n",
      "4.2\n",
      "\n"
     ]
    }
   ],
   "source": [
    "for baris in range(5):\n",
    "    for kolom in range(3):\n",
    "        print('{}.{}'.format(baris,kolom))\n",
    "    print()"
   ]
  },
  {
   "cell_type": "markdown",
   "id": "identical-brake",
   "metadata": {},
   "source": [
    "# Pendalaman Loop"
   ]
  },
  {
   "cell_type": "code",
   "execution_count": 1,
   "id": "sustainable-wings",
   "metadata": {},
   "outputs": [
    {
     "name": "stdin",
     "output_type": "stream",
     "text": [
      "Jumlah Pelanggan :  2\n"
     ]
    },
    {
     "name": "stdout",
     "output_type": "stream",
     "text": [
      "\n",
      "Masukkan Data Pelanggan :\n",
      "\n"
     ]
    },
    {
     "name": "stdin",
     "output_type": "stream",
     "text": [
      "Nama Pelanggan :  Maya\n",
      "Umur :  23\n",
      "Nama Pelanggan :  Bongo\n",
      "Umur :  22\n"
     ]
    },
    {
     "name": "stdout",
     "output_type": "stream",
     "text": [
      "Pelanggan yang terdaftar adalah : \n",
      "Pelanggan Maya berumur 23 Pelanggan Bongo berumur 22 "
     ]
    }
   ],
   "source": [
    "count = int(input(\"Jumlah Pelanggan : \"))\n",
    "\n",
    "nama_pelanggan = []\n",
    "umur_pelanggan = []\n",
    "\n",
    "print('\\nMasukkan Data Pelanggan :\\n')\n",
    "\n",
    "for i in range(count):\n",
    "    nama = input(\"Nama Pelanggan : \")\n",
    "    umur = int(input(\"Umur : \"))\n",
    "    \n",
    "    nama_pelanggan.append(nama)\n",
    "    umur_pelanggan.append(umur)\n",
    "    \n",
    "print('\\nPelanggan yang terdaftar adalah : \\n')\n",
    "    \n",
    "for x in range(len(nama_pelanggan)):\n",
    "    print(\"Pelanggan {} berumur {}\".format(nama_pelanggan[x],umur_pelanggan[x]))\n",
    "    \n",
    "# for y in range(len(nama_pelanggan)):\n",
    "#     print(\"Pelanggan {} berumur {}\".format(nama,umur))"
   ]
  },
  {
   "cell_type": "markdown",
   "id": "funded-quantity",
   "metadata": {},
   "source": [
    "# While loop"
   ]
  },
  {
   "cell_type": "code",
   "execution_count": null,
   "id": "confused-cursor",
   "metadata": {},
   "outputs": [],
   "source": [
    "i = 1\n",
    "while i < 6:\n",
    "    print(i)\n",
    "    i++"
   ]
  },
  {
   "cell_type": "code",
   "execution_count": null,
   "id": "aquatic-summit",
   "metadata": {},
   "outputs": [],
   "source": []
  }
 ],
 "metadata": {
  "kernelspec": {
   "display_name": "Python 3",
   "language": "python",
   "name": "python3"
  },
  "language_info": {
   "codemirror_mode": {
    "name": "ipython",
    "version": 3
   },
   "file_extension": ".py",
   "mimetype": "text/x-python",
   "name": "python",
   "nbconvert_exporter": "python",
   "pygments_lexer": "ipython3",
   "version": "3.9.1"
  }
 },
 "nbformat": 4,
 "nbformat_minor": 5
}
