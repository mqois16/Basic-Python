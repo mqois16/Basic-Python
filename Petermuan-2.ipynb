{
 "cells": [
  {
   "cell_type": "markdown",
   "id": "attended-consumer",
   "metadata": {},
   "source": [
    "# User Input"
   ]
  },
  {
   "cell_type": "code",
   "execution_count": 2,
   "id": "constant-manhattan",
   "metadata": {},
   "outputs": [
    {
     "name": "stdin",
     "output_type": "stream",
     "text": [
      "Masukkan nama :  Qo\n"
     ]
    },
    {
     "name": "stdout",
     "output_type": "stream",
     "text": [
      "Qo\n"
     ]
    }
   ],
   "source": [
    "nama = input(\"Masukkan nama : \")\n",
    "print(nama)"
   ]
  },
  {
   "cell_type": "code",
   "execution_count": 4,
   "id": "finite-benefit",
   "metadata": {},
   "outputs": [
    {
     "name": "stdin",
     "output_type": "stream",
     "text": [
      "Masukkan nama :  qo\n"
     ]
    },
    {
     "name": "stdout",
     "output_type": "stream",
     "text": [
      "Nama qo\n"
     ]
    }
   ],
   "source": [
    "nama = input(\"Masukkan nama : \")\n",
    "print(\"Nama\"+\" \"+nama)"
   ]
  },
  {
   "cell_type": "code",
   "execution_count": 1,
   "id": "desperate-evolution",
   "metadata": {},
   "outputs": [
    {
     "name": "stdin",
     "output_type": "stream",
     "text": [
      "Masukkan Umur :  22\n"
     ]
    },
    {
     "ename": "TypeError",
     "evalue": "can only concatenate str (not \"int\") to str",
     "output_type": "error",
     "traceback": [
      "\u001b[1;31m---------------------------------------------------------------------------\u001b[0m",
      "\u001b[1;31mTypeError\u001b[0m                                 Traceback (most recent call last)",
      "\u001b[1;32m<ipython-input-1-282287b47aa8>\u001b[0m in \u001b[0;36m<module>\u001b[1;34m\u001b[0m\n\u001b[0;32m      1\u001b[0m \u001b[0mumur\u001b[0m \u001b[1;33m=\u001b[0m \u001b[0mint\u001b[0m\u001b[1;33m(\u001b[0m\u001b[0minput\u001b[0m\u001b[1;33m(\u001b[0m\u001b[1;34m\"Masukkan Umur : \"\u001b[0m\u001b[1;33m)\u001b[0m\u001b[1;33m)\u001b[0m\u001b[1;33m\u001b[0m\u001b[1;33m\u001b[0m\u001b[0m\n\u001b[1;32m----> 2\u001b[1;33m \u001b[0mprint\u001b[0m\u001b[1;33m(\u001b[0m\u001b[1;34m\"Umur\"\u001b[0m\u001b[1;33m+\u001b[0m\u001b[1;34m\" \"\u001b[0m\u001b[1;33m+\u001b[0m\u001b[0mumur\u001b[0m\u001b[1;33m)\u001b[0m\u001b[1;33m\u001b[0m\u001b[1;33m\u001b[0m\u001b[0m\n\u001b[0m",
      "\u001b[1;31mTypeError\u001b[0m: can only concatenate str (not \"int\") to str"
     ]
    }
   ],
   "source": [
    "umur = int(input(\"Masukkan Umur : \"))\n",
    "print(\"Umur\"+\" \"+umur)"
   ]
  },
  {
   "cell_type": "code",
   "execution_count": 3,
   "id": "announced-citizenship",
   "metadata": {},
   "outputs": [
    {
     "name": "stdin",
     "output_type": "stream",
     "text": [
      "Masukkan Umur :  20\n"
     ]
    },
    {
     "name": "stdout",
     "output_type": "stream",
     "text": [
      "Umur 20\n"
     ]
    }
   ],
   "source": [
    "umur = int(input(\"Masukkan Umur : \"))\n",
    "print(\"Umur\",umur)"
   ]
  },
  {
   "cell_type": "markdown",
   "id": "vanilla-kenya",
   "metadata": {},
   "source": [
    "# String Operation"
   ]
  },
  {
   "cell_type": "code",
   "execution_count": 4,
   "id": "constitutional-thousand",
   "metadata": {},
   "outputs": [
    {
     "name": "stdout",
     "output_type": "stream",
     "text": [
      "Hello World\n"
     ]
    }
   ],
   "source": [
    "a = \"Hello World\"\n",
    "print(a)"
   ]
  },
  {
   "cell_type": "code",
   "execution_count": 5,
   "id": "activated-botswana",
   "metadata": {},
   "outputs": [
    {
     "name": "stdout",
     "output_type": "stream",
     "text": [
      "o\n"
     ]
    }
   ],
   "source": [
    "a = \"Hello World\"\n",
    "print(a[4])"
   ]
  },
  {
   "cell_type": "code",
   "execution_count": 6,
   "id": "pointed-witness",
   "metadata": {},
   "outputs": [
    {
     "name": "stdout",
     "output_type": "stream",
     "text": [
      "ello Wo\n"
     ]
    }
   ],
   "source": [
    "a = \"Hello World\"\n",
    "print(a[1:8])"
   ]
  },
  {
   "cell_type": "markdown",
   "id": "current-baker",
   "metadata": {},
   "source": [
    "# String Formatting"
   ]
  },
  {
   "cell_type": "code",
   "execution_count": 7,
   "id": "manufactured-reservation",
   "metadata": {},
   "outputs": [
    {
     "name": "stdin",
     "output_type": "stream",
     "text": [
      "Nama:  qo\n"
     ]
    },
    {
     "name": "stdout",
     "output_type": "stream",
     "text": [
      "Nama saya qo, dan saya berumur 17 tahun\n"
     ]
    }
   ],
   "source": [
    "nama = input(\"Nama: \")\n",
    "umur = 17\n",
    "text = \"Nama saya {}, dan saya berumur {} tahun\".format(nama,umur)\n",
    "print(text)"
   ]
  },
  {
   "cell_type": "markdown",
   "id": "together-implement",
   "metadata": {},
   "source": [
    "# Conditional If"
   ]
  },
  {
   "cell_type": "code",
   "execution_count": 8,
   "id": "beginning-attraction",
   "metadata": {},
   "outputs": [
    {
     "name": "stdout",
     "output_type": "stream",
     "text": [
      "B lebih besar\n"
     ]
    }
   ],
   "source": [
    "a = 10\n",
    "b = 15\n",
    "if a>b:\n",
    "    print(\"A lebih besar\")\n",
    "elif a==b:\n",
    "    print(\"B sama dengan A\")\n",
    "else:\n",
    "    print(\"B lebih besar\")"
   ]
  },
  {
   "cell_type": "markdown",
   "id": "signed-approach",
   "metadata": {},
   "source": [
    "# List"
   ]
  },
  {
   "cell_type": "code",
   "execution_count": 15,
   "id": "nonprofit-heater",
   "metadata": {},
   "outputs": [
    {
     "name": "stdout",
     "output_type": "stream",
     "text": [
      "[1, 2, 3, 19]\n"
     ]
    }
   ],
   "source": [
    "l = []\n",
    "l.append(1)\n",
    "l.append(2)\n",
    "l.append(3)\n",
    "l.append(19)\n",
    "print(l)"
   ]
  },
  {
   "cell_type": "code",
   "execution_count": 10,
   "id": "consistent-columbus",
   "metadata": {},
   "outputs": [
    {
     "name": "stdout",
     "output_type": "stream",
     "text": [
      "3\n"
     ]
    }
   ],
   "source": [
    "l2 = []\n",
    "l2.append(1)\n",
    "l2.append(2)\n",
    "l2.append(19)\n",
    "print(len(l2))"
   ]
  },
  {
   "cell_type": "markdown",
   "id": "floppy-shock",
   "metadata": {},
   "source": [
    "# For Loop in List"
   ]
  },
  {
   "cell_type": "code",
   "execution_count": 14,
   "id": "comfortable-powder",
   "metadata": {},
   "outputs": [
    {
     "name": "stdout",
     "output_type": "stream",
     "text": [
      "Nilai: 1\n",
      "Nilai: 2\n",
      "Nilai: 19\n"
     ]
    }
   ],
   "source": [
    "for j in l:\n",
    "    print(\"Nilai: \"+str(j))"
   ]
  },
  {
   "cell_type": "code",
   "execution_count": 17,
   "id": "limited-switzerland",
   "metadata": {},
   "outputs": [
    {
     "name": "stdout",
     "output_type": "stream",
     "text": [
      "1\n",
      "2\n",
      "19\n"
     ]
    }
   ],
   "source": [
    "for z in l2:\n",
    "    print(z)"
   ]
  },
  {
   "cell_type": "code",
   "execution_count": 18,
   "id": "understanding-wings",
   "metadata": {},
   "outputs": [
    {
     "name": "stdout",
     "output_type": "stream",
     "text": [
      "apel\n"
     ]
    }
   ],
   "source": [
    "nama_buah = [\"apel\",\"pelem\",\"palm\",\"gedang\"]\n",
    "print(nama_buah[0])"
   ]
  },
  {
   "cell_type": "code",
   "execution_count": 28,
   "id": "surgical-saskatchewan",
   "metadata": {
    "collapsed": true,
    "jupyter": {
     "outputs_hidden": true
    }
   },
   "outputs": [
    {
     "name": "stdin",
     "output_type": "stream",
     "text": [
      "Masukkan Angka1:  2\n",
      "Masukkan Angka2:  3\n",
      "Masukkan operasi:  x\n"
     ]
    },
    {
     "name": "stdout",
     "output_type": "stream",
     "text": [
      "Hasil dari Angka1xAngka2=6\n"
     ]
    }
   ],
   "source": [
    "angka1 = int(input(\"Masukkan Angka1: \"))\n",
    "angka2 = int(input(\"Masukkan Angka2: \"))\n",
    "operasi = input(\"Masukkan operasi: \")\n",
    "if operasi == \"+\":\n",
    "    h=angka1+angka2\n",
    "elif operasi == \"-\":\n",
    "    h=angka1-angka2\n",
    "elif operasi == \"x\":\n",
    "    h=angka1*angka2\n",
    "elif operasi == \":\":\n",
    "    h=angka1/angka2\n",
    "elif operasi == \"-\":\n",
    "    h=angka1%angka2\n",
    "else:\n",
    "    print(\"Input Salah, Gunakan tanda operasi +,-,x,:\")\n",
    "    \n",
    "print(\"Hasil dari Angka1\"+operasi+\"Angka2=\"+str(h))"
   ]
  },
  {
   "cell_type": "code",
   "execution_count": null,
   "id": "dominican-transmission",
   "metadata": {},
   "outputs": [],
   "source": []
  },
  {
   "cell_type": "code",
   "execution_count": null,
   "id": "baking-headquarters",
   "metadata": {},
   "outputs": [],
   "source": []
  }
 ],
 "metadata": {
  "kernelspec": {
   "display_name": "Python 3",
   "language": "python",
   "name": "python3"
  },
  "language_info": {
   "codemirror_mode": {
    "name": "ipython",
    "version": 3
   },
   "file_extension": ".py",
   "mimetype": "text/x-python",
   "name": "python",
   "nbconvert_exporter": "python",
   "pygments_lexer": "ipython3",
   "version": "3.9.1"
  }
 },
 "nbformat": 4,
 "nbformat_minor": 5
}
